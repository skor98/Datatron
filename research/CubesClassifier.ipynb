{
 "cells": [
  {
   "cell_type": "markdown",
   "metadata": {},
   "source": [
    "# Классифицируем кубы"
   ]
  },
  {
   "cell_type": "markdown",
   "metadata": {},
   "source": [
    "Это MVP код, поэтому никакой интеграции, без прицела на производительность. Главное быстро получить числа для анализа"
   ]
  },
  {
   "cell_type": "code",
   "execution_count": 1,
   "metadata": {
    "collapsed": true
   },
   "outputs": [],
   "source": [
    "import json\n",
    "import uuid\n",
    "import datetime\n",
    "import time\n",
    "import logging\n",
    "import itertools\n",
    "import re\n",
    "from os import path, listdir, makedirs\n",
    "from math import isnan\n",
    "from statistics import mean, StatisticsError\n",
    "from functools import lru_cache\n",
    "from collections import Counter\n",
    "\n",
    "import numpy as np\n",
    "\n",
    "from nltk.corpus import stopwords\n",
    "from nltk import FreqDist\n",
    "import nltk\n",
    "\n",
    "import pymorphy2\n",
    "\n",
    "\n",
    "from sklearn.neighbors import KNeighborsClassifier\n",
    "from sklearn.tree import DecisionTreeClassifier\n",
    "from sklearn.ensemble import VotingClassifier, RandomForestClassifier, BaggingClassifier, ExtraTreesClassifier, GradientBoostingClassifier\n",
    "from sklearn.linear_model import LogisticRegression\n",
    "from sklearn.preprocessing import minmax_scale, Normalizer, StandardScaler\n",
    "from sklearn.svm import SVC\n",
    "from sklearn.model_selection import train_test_split, cross_val_score\n",
    "from sklearn.decomposition import PCA, NMF\n",
    "from sklearn.metrics import accuracy_score, f1_score, log_loss, confusion_matrix\n",
    "from sklearn.manifold import TSNE\n",
    "from sklearn.model_selection import KFold, ParameterGrid\n",
    "from sklearn.metrics import classification_report\n",
    "\n",
    "from sklearn.model_selection import GridSearchCV, ParameterGrid\n",
    "\n",
    "from sklearn.discriminant_analysis import LinearDiscriminantAnalysis\n",
    "\n",
    "import matplotlib.pyplot as plt\n",
    "import seaborn as sns\n",
    "sns.set(color_codes=True)\n",
    "\n",
    "%matplotlib inline\n",
    "plt.rcParams['figure.figsize']=(9,7)\n",
    "plt.style.use('seaborn-deep')"
   ]
  },
  {
   "cell_type": "code",
   "execution_count": 2,
   "metadata": {
    "collapsed": true
   },
   "outputs": [],
   "source": [
    "@lru_cache(maxsize=16384)  # на самом деле, 8192 почти достаточно\n",
    "def get_normal_form(s):\n",
    "    return get_normal_form.morph.parse(s)[0].normal_form\n",
    "get_normal_form.morph = pymorphy2.MorphAnalyzer()  # Лемматизатор\n",
    "\n",
    "stop_words = set(stopwords.words(\"russian\"))\n",
    "#stop_words.remove('не')\n",
    "stop_words.update(set(\"также иной да нет -\".split()))"
   ]
  },
  {
   "cell_type": "code",
   "execution_count": 36,
   "metadata": {},
   "outputs": [
    {
     "data": {
      "text/plain": [
       "('текущийгод', 'год', 'жить', 'нетекущийгод')"
      ]
     },
     "execution_count": 36,
     "metadata": {},
     "output_type": "execute_result"
    }
   ],
   "source": [
    "words_re = re.compile(\"[а-яёА-ЯЁ]+\")\n",
    "year_re = re.compile(r\"\\s(\\d\\d(\\d\\d)?)\\s\")\n",
    "def preprocess(s: str):\n",
    "    \"\"\"Возвращает массив токенов по строке\"\"\"\n",
    "    not_process = set([\"текущийгод\", \"нетекущийгод\"])\n",
    "    s = s.replace(\"2017\", \"текущийгод\")\n",
    "    s = s.replace(\"17\", \"текущийгод\")\n",
    "    s = year_re.sub(\" нетекущийгод \", s + \" \")\n",
    "    return tuple(set(map(\n",
    "        lambda x: get_normal_form(x) if x not in not_process else x,\n",
    "        filter(\n",
    "            lambda x: x not in stop_words,\n",
    "            words_re.findall(s.lower())\n",
    "        )\n",
    "    )))\n",
    "\n",
    "\n",
    "preprocess(\"хорошо жить в 2017 году 19 после 2016\")"
   ]
  },
  {
   "cell_type": "code",
   "execution_count": 29,
   "metadata": {},
   "outputs": [
    {
     "data": {
      "text/plain": [
       "'хорошо жить в текущийгод году текущийгод после текущийгод '"
      ]
     },
     "execution_count": 29,
     "metadata": {},
     "output_type": "execute_result"
    }
   ],
   "source": [
    "year_re.sub(\" текущийгод \", \"хорошо жить в 2017 году 19 после 2016 \")\n"
   ]
  },
  {
   "cell_type": "markdown",
   "metadata": {},
   "source": [
    "Загрузим данные"
   ]
  },
  {
   "cell_type": "code",
   "execution_count": 37,
   "metadata": {
    "collapsed": true
   },
   "outputs": [],
   "source": [
    "def get_test_files(test_path, prefix):\n",
    "    for file_name in listdir(test_path):\n",
    "        if file_name.startswith(prefix):\n",
    "            yield path.join(test_path, file_name)"
   ]
  },
  {
   "cell_type": "code",
   "execution_count": 38,
   "metadata": {},
   "outputs": [
    {
     "name": "stdout",
     "output_type": "stream",
     "text": [
      "Всего: 406 примеров\n",
      "Первая строка: (('страна', 'январь', 'текущийгод', 'клуб', 'войти', 'парижский', 'задолженность'), 0)\n",
      "{\n",
      "    \"FSYR01\": 1,\n",
      "    \"INDO01\": 3,\n",
      "    \"EXDO01\": 2,\n",
      "    \"CLMR02\": 0,\n",
      "    \"CLDO02\": 7,\n",
      "    \"CLDO01\": 4,\n",
      "    \"INYR03\": 5,\n",
      "    \"EXYR03\": 6\n",
      "}\n"
     ]
    }
   ],
   "source": [
    "cube_re = re.compile(r'(?<=FROM \\[)\\w*')\n",
    "\n",
    "CubesMap = {}\n",
    "\n",
    "lines = []\n",
    "for test_path in get_test_files('../tests/cube/', \"cubes_test\"):\n",
    "    with open(test_path, 'r', encoding='utf-8') as file_in:\n",
    "        for idx, line in enumerate(file_in):\n",
    "            line = line.strip()\n",
    "            if not line:\n",
    "                continue\n",
    "\n",
    "            if line.startswith('*'):\n",
    "                continue\n",
    "\n",
    "            req, answer = line.split(':')\n",
    "            answer = cube_re.search(answer).group()\n",
    "            \n",
    "            if not answer in CubesMap:\n",
    "                if not CubesMap:\n",
    "                    CubesMap[answer] = 0\n",
    "                else:\n",
    "                    CubesMap[answer] = max(CubesMap.values()) + 1\n",
    "                    \n",
    "            answer = CubesMap[answer]\n",
    "            req = req.lower()\n",
    "            req = preprocess(req)\n",
    "            lines.append((req, answer))\n",
    "\n",
    "BackCubesMap = {CubesMap[i]:i for i in CubesMap}\n",
    "            \n",
    "print(\"Всего: {} примеров\".format(len(lines)))\n",
    "print(\"Первая строка: {}\".format(lines[0]))\n",
    "print(json.dumps(CubesMap,indent=4))"
   ]
  },
  {
   "cell_type": "markdown",
   "metadata": {},
   "source": [
    "Построим большой словарь со всеми частотами, а затем его гистограмму"
   ]
  },
  {
   "cell_type": "code",
   "execution_count": 39,
   "metadata": {},
   "outputs": [
    {
     "name": "stdout",
     "output_type": "stream",
     "text": [
      "Всего 299 слова. Из них значимых не более 165\n",
      "Самые частые слова\n",
      "год 196\n",
      "бюджет 165\n",
      "доход 132\n",
      "расход 107\n",
      "нетекущийгод 103\n",
      "область 86\n",
      "исполнение 66\n",
      "консолидированный 63\n",
      "текущийгод 62\n",
      "федеральный 52\n",
      "сколько 48\n",
      "текущий 43\n",
      "долг 36\n",
      "рф 35\n",
      "федерация 35\n",
      "российский 35\n",
      "вологодский 33\n",
      "сумма 31\n",
      "поступление 27\n",
      "субъект 26\n"
     ]
    },
    {
     "data": {
      "image/png": "[encoded data removed]",
      "text/plain": [
       "<matplotlib.figure.Figure at 0x7f02979cc710>"
      ]
     },
     "metadata": {},
     "output_type": "display_data"
    },
    {
     "data": {
      "image/png": "[encoded data removed]",
      "text/plain": [
       "<matplotlib.figure.Figure at 0x7f02979b31d0>"
      ]
     },
     "metadata": {},
     "output_type": "display_data"
    }
   ],
   "source": [
    "all_freqs = Counter()\n",
    "for line in lines:\n",
    "    for word in line[0]:\n",
    "        all_freqs[word] += 1\n",
    "print(\"Всего {} слова. Из них значимых не более {}\".format(\n",
    "    len(all_freqs),\n",
    "    len(list(filter(lambda x: all_freqs[x] >= 3, all_freqs.keys())))\n",
    "))\n",
    "print(\"Самые частые слова\")\n",
    "for word in tuple(sorted(all_freqs.keys(), key = lambda x: all_freqs[x], reverse=True))[:20]:\n",
    "    print(word, all_freqs[word])\n",
    "        \n",
    "sns.distplot(tuple(all_freqs.values()), bins=20)\n",
    "plt.title(\"Гистограмма всех слов\")\n",
    "plt.show()\n",
    "\n",
    "sns.distplot(tuple(filter(lambda x: x >= 3, all_freqs.values())), bins=20)\n",
    "plt.title(\"Гистограмма фильтрованных слов\")\n",
    "plt.show()"
   ]
  },
  {
   "cell_type": "markdown",
   "metadata": {},
   "source": [
    "Построим соответствие между словами и их индексами в векторе"
   ]
  },
  {
   "cell_type": "code",
   "execution_count": 40,
   "metadata": {
    "collapsed": true
   },
   "outputs": [],
   "source": [
    "WordIndex = {}\n",
    "for ind, word in enumerate(filter(lambda x: all_freqs[x] >= 3, all_freqs.keys())):\n",
    "    WordIndex[word] = ind"
   ]
  },
  {
   "cell_type": "code",
   "execution_count": 41,
   "metadata": {},
   "outputs": [
    {
     "name": "stdout",
     "output_type": "stream",
     "text": [
      "Отфильтровали 84 примеров\n",
      "322\n"
     ]
    }
   ],
   "source": [
    "X = np.zeros((len(lines),len(WordIndex)))\n",
    "Y = np.zeros(len(lines))\n",
    "\n",
    "used_queries = set()\n",
    "filtered_data = []\n",
    "    \n",
    "for line in lines:\n",
    "    stringed_example = \"\".join(sorted(line[0]))\n",
    "    if stringed_example in used_queries:\n",
    "        continue\n",
    "    used_queries.add(stringed_example)\n",
    "    filtered_data.append(line)\n",
    "\n",
    "print(\"Отфильтровали {} примеров\".format(len(lines) - len(filtered_data)))\n",
    "\n",
    "X = np.zeros((len(filtered_data),len(WordIndex)))\n",
    "Y = np.zeros(len(filtered_data))\n",
    "\n",
    "for ind, line in enumerate(filtered_data):\n",
    "    req_words = line[0]\n",
    "    for word in req_words:\n",
    "        if word not in WordIndex:\n",
    "            continue\n",
    "        X[ind,WordIndex[word]] += 1\n",
    "    Y[ind] = line[1]\n",
    "\n",
    "print(X.shape[0])\n",
    "# Нормализация среднего и среднеквадратичного отклонения\n",
    "scaler = StandardScaler()\n",
    "X = scaler.fit_transform(X)"
   ]
  },
  {
   "cell_type": "markdown",
   "metadata": {},
   "source": [
    "Несмотря на кажущуюся примитичность, цифра ниже показывает максимальную теоритическую точность при использовании логистической регрессии. Реальная точность будет другой. Так её проверять **НЕЛЬЗЯ**"
   ]
  },
  {
   "cell_type": "code",
   "execution_count": 42,
   "metadata": {},
   "outputs": [
    {
     "data": {
      "text/plain": [
       "0.99689440993788825"
      ]
     },
     "execution_count": 42,
     "metadata": {},
     "output_type": "execute_result"
    }
   ],
   "source": [
    "clf = LogisticRegression().fit(X,Y)\n",
    "(clf.predict(X) == Y).sum() / Y.shape[0]"
   ]
  },
  {
   "cell_type": "markdown",
   "metadata": {},
   "source": [
    "Препроцессинг уже матрицы"
   ]
  },
  {
   "cell_type": "code",
   "execution_count": 44,
   "metadata": {
    "collapsed": true
   },
   "outputs": [],
   "source": [
    "def getClassifier():\n",
    "    classifiers = {\n",
    "        \"SVM\": (SVC, ParameterGrid({\"C\":[1,4,10], \"probability\":[True], \"decision_function_shape\":[\"ovr\"]})),\n",
    "        \"logistic\": (LogisticRegression, ParameterGrid({\"C\":[1,2], \"n_jobs\":[-1]})),\n",
    "        \"GB\": (GradientBoostingClassifier, ParameterGrid({\n",
    "            \"learning_rate\":[0.3, 0.1],\n",
    "            \"n_estimators\":[100, 240],\n",
    "            \"max_depth\": [1,2,3]\n",
    "        }))\n",
    "    }\n",
    "    for clf_name in classifiers:\n",
    "        for params in classifiers[clf_name][1]:\n",
    "            yield clf_name, params, classifiers[clf_name][0](**params)"
   ]
  },
  {
   "cell_type": "markdown",
   "metadata": {},
   "source": [
    "Далее я вставил *свой* сниппет, который делает следующее: использует K-Fold с общими тестами, проверяет метрики на каждой из моделей. Затем выводит максимальные и минимальные результаты\n",
    "\n",
    "Чем больше KFOLD_PARTS, тем точнее к реальной жизни, но тем дольше. При $parts \\rightarrow N$ получим 1-Fold и супер низкую скорость\n",
    "\n",
    "Так как\n",
    "$$\\frac{N}{parts} \\ll 100$$\n",
    "то нахождение доверительного интервала не особо осмысленно"
   ]
  },
  {
   "cell_type": "code",
   "execution_count": 45,
   "metadata": {},
   "outputs": [
    {
     "name": "stdout",
     "output_type": "stream",
     "text": [
      "GB {'n_estimators': 100, 'learning_rate': 0.3, 'max_depth': 1} and train_acc: 0.989 test_acc: 0.882 test_log_loss 0.409\n",
      "GB {'n_estimators': 240, 'learning_rate': 0.3, 'max_depth': 1} and train_acc: 0.997 test_acc: 0.866 test_log_loss 0.496\n",
      "GB {'n_estimators': 100, 'learning_rate': 0.3, 'max_depth': 2} and train_acc: 1.000 test_acc: 0.904 test_log_loss 0.410\n",
      "GB {'n_estimators': 240, 'learning_rate': 0.3, 'max_depth': 2} and train_acc: 1.000 test_acc: 0.904 test_log_loss 0.460\n",
      "GB {'n_estimators': 100, 'learning_rate': 0.3, 'max_depth': 3} and train_acc: 1.000 test_acc: 0.901 test_log_loss 0.468\n",
      "GB {'n_estimators': 240, 'learning_rate': 0.3, 'max_depth': 3} and train_acc: 1.000 test_acc: 0.907 test_log_loss 0.448\n",
      "GB {'n_estimators': 100, 'learning_rate': 0.1, 'max_depth': 1} and train_acc: 0.957 test_acc: 0.851 test_log_loss 0.550\n",
      "GB {'n_estimators': 240, 'learning_rate': 0.1, 'max_depth': 1} and train_acc: 0.980 test_acc: 0.882 test_log_loss 0.421\n",
      "GB {'n_estimators': 100, 'learning_rate': 0.1, 'max_depth': 2} and train_acc: 0.994 test_acc: 0.891 test_log_loss 0.371\n",
      "GB {'n_estimators': 240, 'learning_rate': 0.1, 'max_depth': 2} and train_acc: 1.000 test_acc: 0.904 test_log_loss 0.387\n",
      "GB {'n_estimators': 100, 'learning_rate': 0.1, 'max_depth': 3} and train_acc: 1.000 test_acc: 0.891 test_log_loss 0.398\n",
      "GB {'n_estimators': 240, 'learning_rate': 0.1, 'max_depth': 3} and train_acc: 1.000 test_acc: 0.891 test_log_loss 0.462\n",
      "SVM {'decision_function_shape': 'ovr', 'C': 1, 'probability': True} and train_acc: 0.950 test_acc: 0.789 test_log_loss 0.614\n",
      "SVM {'decision_function_shape': 'ovr', 'C': 4, 'probability': True} and train_acc: 0.988 test_acc: 0.820 test_log_loss 0.521\n",
      "SVM {'decision_function_shape': 'ovr', 'C': 10, 'probability': True} and train_acc: 1.000 test_acc: 0.851 test_log_loss 0.490\n",
      "logistic {'n_jobs': -1, 'C': 1} and train_acc: 0.997 test_acc: 0.870 test_log_loss 0.554\n",
      "logistic {'n_jobs': -1, 'C': 2} and train_acc: 1.000 test_acc: 0.870 test_log_loss 0.531\n"
     ]
    },
    {
     "ename": "NameError",
     "evalue": "name 'best_log_loss' is not defined",
     "output_type": "error",
     "traceback": [
      "\u001b[0;31m---------------------------------------------------------------------------\u001b[0m",
      "\u001b[0;31mNameError\u001b[0m                                 Traceback (most recent call last)",
      "\u001b[0;32m<ipython-input-45-ba11025cfb9d>\u001b[0m in \u001b[0;36m<module>\u001b[0;34m()\u001b[0m\n\u001b[1;32m     56\u001b[0m     \u001b[0mbest_clf_name\u001b[0m\u001b[0;34m,\u001b[0m\u001b[0;34m\u001b[0m\u001b[0m\n\u001b[1;32m     57\u001b[0m     \u001b[0mbest_params\u001b[0m\u001b[0;34m,\u001b[0m\u001b[0;34m\u001b[0m\u001b[0m\n\u001b[0;32m---> 58\u001b[0;31m     \u001b[0mbest_log_loss\u001b[0m\u001b[0;34m\u001b[0m\u001b[0m\n\u001b[0m\u001b[1;32m     59\u001b[0m ))\n",
      "\u001b[0;31mNameError\u001b[0m: name 'best_log_loss' is not defined"
     ]
    }
   ],
   "source": [
    "KFOLD_PARTS = 40\n",
    "\n",
    "kf = KFold(n_splits=KFOLD_PARTS,shuffle=True,random_state=42)\n",
    "\n",
    "# сюда положим точность по кубам\n",
    "CubesAcc = {i:{\"T\":0, \"F\": 0} for i in CubesMap.values()}\n",
    "conf_matr = np.zeros((len(CubesMap), len(CubesMap)))\n",
    "\n",
    "best_clf_name = None\n",
    "best_params = None\n",
    "best_acc = 0\n",
    "best_y_test_pred = None\n",
    "best_y_test_pred_proba = None\n",
    "best_y_test_real = None\n",
    "\n",
    "for clf_name, params, clf in getClassifier():\n",
    "    y_train_pred = np.array([])\n",
    "    y_train_real = np.array([])\n",
    "\n",
    "    y_test_pred = np.array([])\n",
    "    y_test_pred_proba = np.zeros((0,len(CubesMap)))\n",
    "    y_test_real = np.array([])\n",
    "    \n",
    "    for train_index, test_index in kf.split(X):\n",
    "        X_train = X[train_index]\n",
    "        Y_train = Y[train_index]\n",
    "\n",
    "        X_test = X[test_index]\n",
    "        Y_test = Y[test_index]\n",
    "\n",
    "        clf.fit(X_train,Y_train)\n",
    "\n",
    "        y_train_pred = np.concatenate((y_train_pred, clf.predict(X_train)))\n",
    "        y_train_real = np.concatenate((y_train_real, Y_train))\n",
    "        \n",
    "        y_test_pred = np.concatenate((y_test_pred, clf.predict(X_test)))\n",
    "        y_test_pred_proba = np.concatenate((y_test_pred_proba, clf.predict_proba(X_test)))\n",
    "        y_test_real = np.concatenate((y_test_real, Y_test))\n",
    "    \n",
    "    if log_loss(y_test_real, y_test_pred_proba) > best_acc:\n",
    "        best_clf_name = clf_name\n",
    "        best_params = params\n",
    "        best_acc = accuracy_score(y_test_pred, y_test_real)\n",
    "        best_y_test_pred = y_test_pred\n",
    "        best_y_test_pred_proba = y_test_pred_proba\n",
    "        best_y_test_real = y_test_real\n",
    "    \n",
    "    print(\"{} {} and train_acc: {:.3f} test_acc: {:.3f} test_log_loss {:.3f}\".format(\n",
    "        clf_name,\n",
    "        params,\n",
    "        accuracy_score(y_train_pred, y_train_real),\n",
    "        accuracy_score(y_test_pred, y_test_real),\n",
    "        log_loss(y_test_real, y_test_pred_proba)\n",
    "    ))\n",
    "print(\"Лучший {} {} с acc: {:.3f}\".format(\n",
    "    best_clf_name,\n",
    "    best_params,\n",
    "    best_log_loss\n",
    "))"
   ]
  },
  {
   "cell_type": "code",
   "execution_count": 46,
   "metadata": {},
   "outputs": [
    {
     "name": "stdout",
     "output_type": "stream",
     "text": [
      "             precision    recall  f1-score   support\n",
      "\n",
      "     CLMR02       1.00      0.97      0.99        76\n",
      "     FSYR01       0.91      1.00      0.95        21\n",
      "     EXDO01       0.82      0.89      0.85        36\n",
      "     INDO01       0.72      0.78      0.75        37\n",
      "     CLDO01       0.89      0.91      0.90        54\n",
      "     INYR03       0.89      0.86      0.87        28\n",
      "     EXYR03       0.94      0.87      0.90        38\n",
      "     CLDO02       0.76      0.69      0.72        32\n",
      "\n",
      "avg / total       0.88      0.88      0.88       322\n",
      "\n"
     ]
    }
   ],
   "source": [
    "print(classification_report(best_y_test_real, best_y_test_pred, target_names=tuple(BackCubesMap.values())))"
   ]
  },
  {
   "cell_type": "code",
   "execution_count": null,
   "metadata": {
    "collapsed": true
   },
   "outputs": [],
   "source": [
    "def plot_confusion_matrix(cm, classes,\n",
    "                          normalize=False,\n",
    "                          title='Confusion matrix',\n",
    "                          cmap=plt.cm.Blues):\n",
    "    \"\"\"\n",
    "    This function prints and plots the confusion matrix.\n",
    "    Normalization can be applied by setting `normalize=True`.\n",
    "    \"\"\"\n",
    "    plt.imshow(cm, interpolation='nearest', cmap=cmap)\n",
    "    plt.title(title)\n",
    "    plt.colorbar()\n",
    "    tick_marks = np.arange(len(classes))\n",
    "    plt.xticks(tick_marks, classes, rotation=45)\n",
    "    plt.yticks(tick_marks, classes)\n",
    "\n",
    "    if normalize:\n",
    "        cm = cm.astype('float') / cm.sum(axis=1)[:, np.newaxis]\n",
    "\n",
    "    thresh = cm.max() / 2.\n",
    "    for i, j in itertools.product(range(cm.shape[0]), range(cm.shape[1])):\n",
    "        plt.text(j, i, round(cm[i, j],2),\n",
    "                 horizontalalignment=\"center\", color=\"white\" if cm[i, j] > thresh else \"black\", size=14)\n",
    "\n",
    "    plt.tight_layout()\n",
    "    plt.ylabel('True label')\n",
    "    plt.xlabel('Predicted label')\n",
    "\n",
    "class_names = tuple(BackCubesMap.values())\n",
    "\n",
    "\n",
    "# Plot non-normalized confusion matrix\n",
    "plt.figure()\n",
    "plot_confusion_matrix(conf_matr, classes=class_names,\n",
    "                      title='Confusion matrix, without normalization')\n",
    "np.set_printoptions(precision=2)\n",
    "plt.savefig(\"/tmp/conf.png\")\n",
    "\n",
    "# Plot normalized confusion matrix\n",
    "plt.figure()\n",
    "plot_confusion_matrix(conf_matr, classes=class_names, normalize=True,\n",
    "                      title='Normalized confusion matrix')\n",
    "plt.savefig(\"/tmp/conf_normed.png\")\n",
    "plt.show()"
   ]
  },
  {
   "cell_type": "code",
   "execution_count": 19,
   "metadata": {},
   "outputs": [
    {
     "data": {
      "image/png": "[encoded data removed]",
      "text/plain": [
       "<matplotlib.figure.Figure at 0x7f551e0792e8>"
      ]
     },
     "metadata": {},
     "output_type": "display_data"
    },
    {
     "data": {
      "image/png": "[encoded data removed]",
      "text/plain": [
       "<matplotlib.figure.Figure at 0x7f551e24d908>"
      ]
     },
     "metadata": {},
     "output_type": "display_data"
    },
    {
     "name": "stdout",
     "output_type": "stream",
     "text": [
      "Всего 406 тестов\n"
     ]
    }
   ],
   "source": [
    "ind = np.arange(len(CubesAcc))\n",
    "plt.bar(ind, tuple(CubesAcc.values()))\n",
    "plt.xticks(ind, BackCubesMap.values())\n",
    "plt.title(\"Точность по каждому из кубов\")\n",
    "plt.savefig(\"/tmp/per_cube_acc.png\")\n",
    "plt.show()\n",
    "\n",
    "CubesCount = Counter()\n",
    "for cube_ind in Y:\n",
    "    CubesCount[cube_ind] += 1\n",
    "plt.bar(ind, tuple(CubesCount.values()))\n",
    "plt.xticks(ind, BackCubesMap.values())\n",
    "plt.title(\"Количество тестов по каждому из кубов\")\n",
    "plt.savefig(\"/tmp/per_cube_count.png\")\n",
    "plt.show()\n",
    "\n",
    "print(\"Всего {} тестов\".format(Y.shape[0]))"
   ]
  },
  {
   "cell_type": "code",
   "execution_count": 117,
   "metadata": {
    "collapsed": true
   },
   "outputs": [],
   "source": [
    "def getCubeFromStr(req, clf):\n",
    "    req = req.lower()\n",
    "    X = np.zeros((1, len(WordIndex)))\n",
    "    req_words = preprocess(req)\n",
    "    words_to_print = []\n",
    "    for word in req_words:\n",
    "        if word not in WordIndex:\n",
    "            continue\n",
    "        words_to_print.append(word)\n",
    "        X[0,WordIndex[word]] += 1\n",
    "    X = scaler.transform(X)\n",
    "    print(words_to_print)\n",
    "    return list(map(lambda x: (BackCubesMap[x[0]], x[1]), sorted(list(enumerate(clf.predict_proba(X)[0].tolist())), key = lambda x: x[1], reverse = True)))"
   ]
  },
  {
   "cell_type": "code",
   "execution_count": 121,
   "metadata": {
    "collapsed": true
   },
   "outputs": [],
   "source": [
    "clf = GradientBoostingClassifier(learning_rate=0.03,n_estimators = 240,).fit(X,Y)"
   ]
  },
  {
   "cell_type": "code",
   "execution_count": 40,
   "metadata": {},
   "outputs": [
    {
     "data": {
      "text/plain": [
       "{0: 'CLMR02',\n",
       " 1: 'FSYR01',\n",
       " 2: 'EXDO01',\n",
       " 3: 'INDO01',\n",
       " 4: 'CLDO01',\n",
       " 5: 'INYR03',\n",
       " 6: 'EXYR03',\n",
       " 7: 'CLDO02'}"
      ]
     },
     "execution_count": 40,
     "metadata": {},
     "output_type": "execute_result"
    }
   ],
   "source": [
    "BackCubesMap"
   ]
  },
  {
   "cell_type": "code",
   "execution_count": 122,
   "metadata": {
    "scrolled": true
   },
   "outputs": [
    {
     "name": "stdout",
     "output_type": "stream",
     "text": [
      "['поступление', 'ндфл', 'бюджет', 'городской', 'округ', 'ярославский', 'область']\n"
     ]
    },
    {
     "data": {
      "text/plain": [
       "[('CLDO02', 0.5763299021503253),\n",
       " ('INDO01', 0.23120019922729695),\n",
       " ('INYR03', 0.13473813687433034),\n",
       " ('EXDO01', 0.024093159826190334),\n",
       " ('EXYR03', 0.018635905836717984),\n",
       " ('FSYR01', 0.008221785670740559),\n",
       " ('CLMR02', 0.0034437340219189536),\n",
       " ('CLDO01', 0.00333717639247954)]"
      ]
     },
     "execution_count": 122,
     "metadata": {},
     "output_type": "execute_result"
    }
   ],
   "source": [
    "s = \"\"\"Поступления по НДФЛ в бюджеты городских округов Ярославской области\"\"\"\n",
    "getCubeFromStr(s, clf)"
   ]
  }
 ],
 "metadata": {
  "kernelspec": {
   "display_name": "Python 3",
   "language": "python",
   "name": "python3"
  },
  "language_info": {
   "codemirror_mode": {
    "name": "ipython",
    "version": 3
   },
   "file_extension": ".py",
   "mimetype": "text/x-python",
   "name": "python",
   "nbconvert_exporter": "python",
   "pygments_lexer": "ipython3",
   "version": "3.5.2"
  }
 },
 "nbformat": 4,
 "nbformat_minor": 2
}
