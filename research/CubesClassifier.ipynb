{
 "cells": [
  {
   "cell_type": "markdown",
   "metadata": {},
   "source": [
    "# Классифицируем кубы"
   ]
  },
  {
   "cell_type": "markdown",
   "metadata": {},
   "source": [
    "Это MVP код, поэтому никакой интеграции, без прицела на производительность. Главное быстро получить числа для анализа"
   ]
  },
  {
   "cell_type": "code",
   "execution_count": 99,
   "metadata": {
    "collapsed": true
   },
   "outputs": [],
   "source": [
    "import json\n",
    "import uuid\n",
    "import datetime\n",
    "import time\n",
    "import logging\n",
    "import itertools\n",
    "import re\n",
    "from os import path, listdir, makedirs\n",
    "from math import isnan\n",
    "from statistics import mean, StatisticsError\n",
    "from functools import lru_cache\n",
    "from collections import Counter\n",
    "\n",
    "import numpy as np\n",
    "\n",
    "from nltk.corpus import stopwords\n",
    "from nltk import FreqDist\n",
    "import nltk\n",
    "\n",
    "import pymorphy2\n",
    "\n",
    "\n",
    "from sklearn.neighbors import KNeighborsClassifier\n",
    "from sklearn.tree import DecisionTreeClassifier\n",
    "from sklearn.ensemble import VotingClassifier, RandomForestClassifier, BaggingClassifier, ExtraTreesClassifier, GradientBoostingClassifier\n",
    "from sklearn.linear_model import LogisticRegression\n",
    "from sklearn.preprocessing import minmax_scale, Normalizer, StandardScaler\n",
    "from sklearn.svm import SVC\n",
    "from sklearn.model_selection import train_test_split, cross_val_score\n",
    "from sklearn.decomposition import PCA, NMF\n",
    "from sklearn.metrics import accuracy_score, f1_score, log_loss, confusion_matrix\n",
    "from sklearn.manifold import TSNE\n",
    "from sklearn.model_selection import KFold, ParameterGrid\n",
    "from sklearn.metrics import classification_report\n",
    "\n",
    "from sklearn.model_selection import GridSearchCV, ParameterGrid\n",
    "\n",
    "from sklearn.discriminant_analysis import LinearDiscriminantAnalysis\n",
    "\n",
    "import matplotlib.pyplot as plt\n",
    "import seaborn as sns\n",
    "sns.set(color_codes=True)\n",
    "\n",
    "%matplotlib inline\n",
    "plt.rcParams['figure.figsize']=(9,7)\n",
    "plt.style.use('seaborn-deep')"
   ]
  },
  {
   "cell_type": "markdown",
   "metadata": {},
   "source": [
    "Обвзяка для базы знаний. Не смог по нормальному скопироваь"
   ]
  },
  {
   "cell_type": "code",
   "execution_count": 117,
   "metadata": {},
   "outputs": [],
   "source": [
    "from peewee import Model, SqliteDatabase, CharField, ForeignKeyField, CompositeKey,fn\n",
    "\n",
    "database = SqliteDatabase(\"../kb/knowledge_base.db\")\n",
    "\n",
    "\n",
    "class BaseModel(Model):\n",
    "    class Meta:\n",
    "        database = SqliteDatabase(\"../kb/knowledge_base.db\")\n",
    "\n",
    "\n",
    "class Member(BaseModel):\n",
    "    # Полное вербальное значение\n",
    "    caption = CharField()\n",
    "\n",
    "    # Нормализованное вербальное значение\n",
    "    lem_caption = CharField()\n",
    "\n",
    "    # Нормализованные синонимы\n",
    "    lem_synonyms = CharField(null=True)\n",
    "\n",
    "    # Формальное значение для куба\n",
    "    cube_value = CharField()\n",
    "\n",
    "    # Уровень значения измерения в иерархии измерения\n",
    "    hierarchy_level = CharField(null=True)\n",
    "\n",
    "    # Значение измерения, которое также должно быть\n",
    "    # в запросе, если указано данное\n",
    "    with_member = CharField(null=True)\n",
    "\n",
    "\n",
    "class Measure(BaseModel):\n",
    "    # Полное вербальное значение\n",
    "    caption = CharField()\n",
    "\n",
    "    # Нормализованное вербальное значение\n",
    "    lem_caption = CharField()\n",
    "\n",
    "    # Ключевые слова для меры от методологов\n",
    "    key_words = CharField(null=True)\n",
    "\n",
    "    # Ключевые слова для меры от методологов\n",
    "    lem_key_words = CharField(null=True)\n",
    "\n",
    "    # Формальное значение для куба\n",
    "    cube_value = CharField()\n",
    "\n",
    "    # Формат, в котором предоставляются данные из этой меры\n",
    "    # Если 0 - то данные в рублях\n",
    "    # Если 1 - то данные в процентах\n",
    "    # Если 2 – то данные в штуках (сейчас кубов с такими мерами в БД нет)\n",
    "    format = CharField()\n",
    "\n",
    "\n",
    "class Dimension(BaseModel):\n",
    "    # Название измерения\n",
    "    cube_value = CharField()\n",
    "\n",
    "    # Полное вербальное значение\n",
    "    caption = CharField()\n",
    "\n",
    "    # Ключевые слова для измерения от методологов\n",
    "    key_words = CharField(null=True)\n",
    "\n",
    "    # Нормализованные ключевые слова для измерения от методологов\n",
    "    lem_key_words = CharField(null=True)\n",
    "\n",
    "    # Значение измерения по умолчанию\n",
    "    default_value = ForeignKeyField(Member, null=True)\n",
    "\n",
    "\n",
    "class DimensionMember(BaseModel):\n",
    "    member = ForeignKeyField(Member)\n",
    "    dimension = ForeignKeyField(Dimension)\n",
    "\n",
    "    class Meta:\n",
    "        primary_key = CompositeKey('member', 'dimension')\n",
    "\n",
    "\n",
    "class Cube(BaseModel):\n",
    "    # Формальное название куба, например, \"CLMR02\"\n",
    "    name = CharField()\n",
    "\n",
    "    # Тема куба, например, \"Госдолг РФ\"\n",
    "    caption = CharField()\n",
    "\n",
    "    # Наиболее часто встречающиеся слова в значениях\n",
    "    # измерения куба в нормализованном виде с повторениями\n",
    "    auto_lem_key_words = CharField()\n",
    "\n",
    "    # Ключевые слова, составленные методологом\n",
    "    key_words = CharField(null=True)\n",
    "\n",
    "    # Нормализованые ключевые слова от методолога\n",
    "    lem_key_words = CharField(null=True)\n",
    "\n",
    "    # Мера для куба по умолчанию\n",
    "    default_measure = ForeignKeyField(Measure)\n",
    "\n",
    "\n",
    "class CubeDimension(BaseModel):\n",
    "    dimension = ForeignKeyField(Dimension)\n",
    "    cube = ForeignKeyField(Cube)\n",
    "\n",
    "    class Meta:\n",
    "        primary_key = CompositeKey('dimension', 'cube')\n",
    "\n",
    "\n",
    "class CubeMeasure(BaseModel):\n",
    "    measure = ForeignKeyField(Measure)\n",
    "    cube = ForeignKeyField(Cube)\n",
    "\n",
    "    class Meta:\n",
    "        primary_key = CompositeKey('measure', 'cube')"
   ]
  },
  {
   "cell_type": "code",
   "execution_count": 102,
   "metadata": {},
   "outputs": [],
   "source": [
    "terr_query = Member.select(Member.lem_caption, Member.lem_synonyms).where(fn.Lower(fn.Substr(Member.cube_value, 1, 2)) == '08')\n",
    "\n",
    "territories = []\n",
    "\n",
    "for territory in terr_query:\n",
    "    if territory.lem_caption in [\"неуказанный территория\", \"неуказанный наименование\"]:\n",
    "        continue\n",
    "    territories.append(set(territory.lem_caption.split()))\n",
    "    if territory.lem_synonyms:\n",
    "        for synonym in territory.lem_synonyms.split():\n",
    "            territories.append(set([synonym]))\n",
    "territories[:10]\n",
    "territories.append({\"кабардино\", \"балкария\"})\n",
    "territories.append({\"хмао\"})\n",
    "territories.append({\"крымский\"})\n",
    "territories.append({\"крым\"})\n",
    "territories.append({\"кабардино\", \"балкарский\", \"республика\"})"
   ]
  },
  {
   "cell_type": "code",
   "execution_count": 103,
   "metadata": {
    "collapsed": true
   },
   "outputs": [],
   "source": [
    "@lru_cache(maxsize=16384)  # на самом деле, 8192 почти достаточно\n",
    "def get_normal_form(s):\n",
    "    return get_normal_form.morph.parse(s)[0].normal_form\n",
    "get_normal_form.morph = pymorphy2.MorphAnalyzer()  # Лемматизатор\n",
    "\n",
    "stop_words = set(stopwords.words(\"russian\"))\n",
    "#stop_words.remove('не')\n",
    "stop_words.update(set(\"также иной да нет -\".split()))"
   ]
  },
  {
   "cell_type": "code",
   "execution_count": 104,
   "metadata": {},
   "outputs": [
    {
     "data": {
      "text/plain": [
       "('текущийгод', 'год', 'нетекущийгод', 'жить', 'члентерритория')"
      ]
     },
     "execution_count": 104,
     "metadata": {},
     "output_type": "execute_result"
    }
   ],
   "source": [
    "words_re = re.compile(\"[а-яёА-ЯЁ]+\")\n",
    "year_re = re.compile(r\"\\s(\\d\\d(\\d\\d)?)\\s\")\n",
    "def preprocess(s: str):\n",
    "    \"\"\"Возвращает массив токенов по строке\"\"\"\n",
    "    not_process = set([\"текущийгод\", \"нетекущийгод\", \"члентерритория\"])\n",
    "    s = s.replace(\"2017\", \"текущийгод\")\n",
    "    s = s.replace(\"17\", \"текущийгод\")\n",
    "    s = year_re.sub(\" нетекущийгод \", s + \" \")\n",
    "    \n",
    "    res = set(map(\n",
    "        lambda x: get_normal_form(x) if x not in not_process else x,\n",
    "        filter(\n",
    "            lambda x: x not in stop_words,\n",
    "            words_re.findall(s.lower())\n",
    "        )\n",
    "    ))\n",
    "    \n",
    "    for terr in territories:\n",
    "        if terr.issubset(res):\n",
    "            res = res.difference(terr)\n",
    "            res.add(\"члентерритория\")\n",
    "            break\n",
    "            \n",
    "    return tuple(res)\n",
    "\n",
    "\n",
    "preprocess(\"хорошо жить в 2017 году 19 после 2016 ярославской области \")"
   ]
  },
  {
   "cell_type": "code",
   "execution_count": 105,
   "metadata": {},
   "outputs": [
    {
     "data": {
      "text/plain": [
       "('члентерритория', 'образование', 'расход')"
      ]
     },
     "execution_count": 105,
     "metadata": {},
     "output_type": "execute_result"
    }
   ],
   "source": [
    "preprocess(\"расходы на образование в москве\")"
   ]
  },
  {
   "cell_type": "code",
   "execution_count": 106,
   "metadata": {},
   "outputs": [
    {
     "ename": "AttributeError",
     "evalue": "'tuple' object has no attribute 'difference'",
     "output_type": "error",
     "traceback": [
      "\u001b[0;31m---------------------------------------------------------------------------\u001b[0m",
      "\u001b[0;31mAttributeError\u001b[0m                            Traceback (most recent call last)",
      "\u001b[0;32m<ipython-input-106-5f0b9431a113>\u001b[0m in \u001b[0;36m<module>\u001b[0;34m()\u001b[0m\n\u001b[1;32m      1\u001b[0m \u001b[0ma\u001b[0m \u001b[0;34m=\u001b[0m \u001b[0mpreprocess\u001b[0m\u001b[0;34m(\u001b[0m\u001b[0;34m\"хорошо жить в 2017 году 19 после 2016 россии\"\u001b[0m\u001b[0;34m)\u001b[0m\u001b[0;34m\u001b[0m\u001b[0m\n\u001b[1;32m      2\u001b[0m \u001b[0mterritories\u001b[0m\u001b[0;34m[\u001b[0m\u001b[0;36m2\u001b[0m\u001b[0;34m]\u001b[0m\u001b[0;34m.\u001b[0m\u001b[0missubset\u001b[0m\u001b[0;34m(\u001b[0m\u001b[0ma\u001b[0m\u001b[0;34m)\u001b[0m\u001b[0;34m\u001b[0m\u001b[0m\n\u001b[0;32m----> 3\u001b[0;31m \u001b[0ma\u001b[0m\u001b[0;34m.\u001b[0m\u001b[0mdifference\u001b[0m\u001b[0;34m(\u001b[0m\u001b[0mterritories\u001b[0m\u001b[0;34m[\u001b[0m\u001b[0;36m2\u001b[0m\u001b[0;34m]\u001b[0m\u001b[0;34m)\u001b[0m\u001b[0;34m\u001b[0m\u001b[0m\n\u001b[0m",
      "\u001b[0;31mAttributeError\u001b[0m: 'tuple' object has no attribute 'difference'"
     ]
    }
   ],
   "source": [
    "a = preprocess(\"хорошо жить в 2017 году 19 после 2016 россии\")\n",
    "territories[2].issubset(a)\n",
    "a.difference(territories[2])"
   ]
  },
  {
   "cell_type": "code",
   "execution_count": 29,
   "metadata": {},
   "outputs": [
    {
     "data": {
      "text/plain": [
       "'хорошо жить в текущийгод году текущийгод после текущийгод '"
      ]
     },
     "execution_count": 29,
     "metadata": {},
     "output_type": "execute_result"
    }
   ],
   "source": [
    "year_re.sub(\" текущийгод \", \"хорошо жить в 2017 году 19 после 2016 \")\n"
   ]
  },
  {
   "cell_type": "markdown",
   "metadata": {},
   "source": [
    "Загрузим данные"
   ]
  },
  {
   "cell_type": "code",
   "execution_count": 107,
   "metadata": {
    "collapsed": true
   },
   "outputs": [],
   "source": [
    "def get_test_files(test_path, prefix):\n",
    "    for file_name in listdir(test_path):\n",
    "        if file_name.startswith(prefix):\n",
    "            yield path.join(test_path, file_name)"
   ]
  },
  {
   "cell_type": "code",
   "execution_count": 108,
   "metadata": {},
   "outputs": [
    {
     "name": "stdout",
     "output_type": "stream",
     "text": [
      "Всего: 406 примеров\n",
      "Первая строка: (('клуб', 'январь', 'парижский', 'текущийгод', 'задолженность', 'страна', 'войти'), 0)\n",
      "{\n",
      "    \"CLDO02\": 7,\n",
      "    \"CLDO01\": 4,\n",
      "    \"INYR03\": 5,\n",
      "    \"CLMR02\": 0,\n",
      "    \"INDO01\": 3,\n",
      "    \"FSYR01\": 1,\n",
      "    \"EXYR03\": 6,\n",
      "    \"EXDO01\": 2\n",
      "}\n"
     ]
    }
   ],
   "source": [
    "cube_re = re.compile(r'(?<=FROM \\[)\\w*')\n",
    "\n",
    "CubesMap = {}\n",
    "\n",
    "lines = []\n",
    "for test_path in get_test_files('../tests/cube/', \"cubes_test\"):\n",
    "    with open(test_path, 'r', encoding='utf-8') as file_in:\n",
    "        for idx, line in enumerate(file_in):\n",
    "            line = line.strip()\n",
    "            if not line:\n",
    "                continue\n",
    "\n",
    "            if line.startswith('*'):\n",
    "                continue\n",
    "\n",
    "            req, answer = line.split(':')\n",
    "            answer = cube_re.search(answer).group()\n",
    "            \n",
    "            if not answer in CubesMap:\n",
    "                if not CubesMap:\n",
    "                    CubesMap[answer] = 0\n",
    "                else:\n",
    "                    CubesMap[answer] = max(CubesMap.values()) + 1\n",
    "                    \n",
    "            answer = CubesMap[answer]\n",
    "            req = req.lower()\n",
    "            req = preprocess(req)\n",
    "            lines.append((req, answer))\n",
    "\n",
    "BackCubesMap = {CubesMap[i]:i for i in CubesMap}\n",
    "            \n",
    "print(\"Всего: {} примеров\".format(len(lines)))\n",
    "print(\"Первая строка: {}\".format(lines[0]))\n",
    "print(json.dumps(CubesMap,indent=4))"
   ]
  },
  {
   "cell_type": "markdown",
   "metadata": {},
   "source": [
    "Построим большой словарь со всеми частотами, а затем его гистограмму"
   ]
  },
  {
   "cell_type": "code",
   "execution_count": 109,
   "metadata": {},
   "outputs": [
    {
     "name": "stdout",
     "output_type": "stream",
     "text": [
      "Всего 278 слова. Из них значимых не более 147\n",
      "Самые частые слова\n",
      "члентерритория 213\n",
      "год 196\n",
      "бюджет 165\n",
      "доход 132\n",
      "расход 107\n",
      "нетекущийгод 103\n",
      "исполнение 66\n",
      "консолидированный 63\n",
      "текущийгод 62\n",
      "федеральный 52\n",
      "сколько 48\n",
      "текущий 43\n",
      "долг 36\n",
      "сумма 31\n",
      "поступление 27\n",
      "субъект 26\n",
      "финансирование 24\n",
      "дефицит 23\n",
      "процент 22\n",
      "налог 21\n"
     ]
    },
    {
     "data": {
      "image/png": "[encoded data removed]",
      "text/plain": [
       "<matplotlib.figure.Figure at 0x7f63506f33c8>"
      ]
     },
     "metadata": {},
     "output_type": "display_data"
    },
    {
     "data": {
      "image/png": "[encoded data removed]",
      "text/plain": [
       "<matplotlib.figure.Figure at 0x7f6350c6e7f0>"
      ]
     },
     "metadata": {},
     "output_type": "display_data"
    }
   ],
   "source": [
    "all_freqs = Counter()\n",
    "for line in lines:\n",
    "    for word in line[0]:\n",
    "        all_freqs[word] += 1\n",
    "print(\"Всего {} слова. Из них значимых не более {}\".format(\n",
    "    len(all_freqs),\n",
    "    len(list(filter(lambda x: all_freqs[x] >= 3, all_freqs.keys())))\n",
    "))\n",
    "print(\"Самые частые слова\")\n",
    "for word in tuple(sorted(all_freqs.keys(), key = lambda x: all_freqs[x], reverse=True))[:20]:\n",
    "    print(word, all_freqs[word])\n",
    "        \n",
    "sns.distplot(tuple(all_freqs.values()), bins=20)\n",
    "plt.title(\"Гистограмма всех слов\")\n",
    "plt.show()\n",
    "\n",
    "sns.distplot(tuple(filter(lambda x: x >= 3, all_freqs.values())), bins=20)\n",
    "plt.title(\"Гистограмма фильтрованных слов\")\n",
    "plt.show()"
   ]
  },
  {
   "cell_type": "markdown",
   "metadata": {},
   "source": [
    "Построим соответствие между словами и их индексами в векторе"
   ]
  },
  {
   "cell_type": "code",
   "execution_count": 110,
   "metadata": {
    "collapsed": true
   },
   "outputs": [],
   "source": [
    "WordIndex = {}\n",
    "for ind, word in enumerate(filter(lambda x: all_freqs[x] >= 3, all_freqs.keys())):\n",
    "    WordIndex[word] = ind"
   ]
  },
  {
   "cell_type": "code",
   "execution_count": 111,
   "metadata": {},
   "outputs": [
    {
     "name": "stdout",
     "output_type": "stream",
     "text": [
      "Отфильтровали 88 примеров\n",
      "318\n"
     ]
    }
   ],
   "source": [
    "X = np.zeros((len(lines),len(WordIndex)))\n",
    "Y = np.zeros(len(lines))\n",
    "\n",
    "used_queries = set()\n",
    "filtered_data = []\n",
    "    \n",
    "for line in lines:\n",
    "    stringed_example = \"\".join(sorted(line[0]))\n",
    "    if stringed_example in used_queries:\n",
    "        continue\n",
    "    used_queries.add(stringed_example)\n",
    "    filtered_data.append(line)\n",
    "\n",
    "print(\"Отфильтровали {} примеров\".format(len(lines) - len(filtered_data)))\n",
    "\n",
    "X = np.zeros((len(filtered_data),len(WordIndex)))\n",
    "Y = np.zeros(len(filtered_data))\n",
    "\n",
    "for ind, line in enumerate(filtered_data):\n",
    "    req_words = line[0]\n",
    "    for word in req_words:\n",
    "        if word not in WordIndex:\n",
    "            continue\n",
    "        X[ind,WordIndex[word]] += 1\n",
    "    Y[ind] = line[1]\n",
    "\n",
    "print(X.shape[0])\n",
    "# Нормализация среднего и среднеквадратичного отклонения\n",
    "scaler = StandardScaler()\n",
    "X = scaler.fit_transform(X)"
   ]
  },
  {
   "cell_type": "code",
   "execution_count": 112,
   "metadata": {},
   "outputs": [
    {
     "name": "stdout",
     "output_type": "stream",
     "text": [
      "(('дефицит', 'госбюджет', 'финансирование', 'исполнение', 'процент', 'бюджет'), 4)\n",
      "(('дефицит', 'гос', 'источник', 'финансирование', 'исполнение', 'год', 'бюджет'), 4)\n",
      "(('гос', 'источник', 'финансирование', 'исполнение', 'год', 'внутренний', 'бюджет'), 4)\n",
      "(('гос', 'источник', 'финансирование', 'исполнение', 'год', 'процент', 'внутренний', 'бюджет'), 4)\n",
      "(('размещение', 'госбюджет', 'операция', 'исполнение', 'сальдо', 'ценный', 'бумага', 'процент'), 4)\n",
      "(('размещение', 'госбюджет', 'операция', 'исполнение', 'сальдо', 'ценный', 'бумага'), 4)\n",
      "(('текущий', 'администрировать', 'фнс', 'начало', 'год', 'члентерритория', 'доход'), 4)\n",
      "(('нетекущийгод', 'год', 'исполнение', 'доход', 'члентерритория', 'бюджет', 'консолидированный'), 5)\n",
      "(('нетекущийгод', 'субъект', 'год', 'доход', 'члентерритория', 'бюджет'), 5)\n",
      "(('нетекущийгод', 'субъект', 'год', 'исполнение', 'доход', 'члентерритория', 'показать', 'бюджет', 'сумма'), 5)\n",
      "(('члентерритория', 'субъект', 'бюджет', 'год', 'доход'), 5)\n",
      "(('нетекущийгод', 'район', 'год', 'доход', 'члентерритория', 'бюджет'), 5)\n",
      "(('нетекущийгод', 'поселение', 'год', 'доход', 'члентерритория', 'бюджет'), 5)\n",
      "(('нетекущийгод', 'объесть', 'городской', 'год', 'округ', 'члентерритория', 'доход'), 5)\n",
      "(('нетекущийгод', 'составить', 'субъект', 'фонд', 'государственный', 'сколько', 'внебюджетный', 'год', 'доход', 'члентерритория', 'территориальный', 'бюджет', 'консолидированный'), 5)\n",
      "(('нетекущийгод', 'организация', 'субъект', 'прибыль', 'год', 'поступление', 'члентерритория', 'налог', 'бюджет'), 5)\n",
      "(('нетекущийгод', 'организация', 'прибыль', 'год', 'исполнение', 'члентерритория', 'налог', 'сумма'), 5)\n",
      "(('обязательный', 'нетекущийгод', 'страхование', 'фонд', 'год', 'омс', 'члентерритория', 'страхов', 'территориальный', 'показать', 'бюджет', 'взнос', 'сумма', 'поступить', 'социальный'), 5)\n",
      "(('нетекущийгод', 'субъект', 'объесть', 'год', 'поступление', 'имущество', 'члентерритория', 'налог', 'бюджет'), 5)\n",
      "(('пошлина', 'государственный', 'поступить', 'сколько', 'члентерритория', 'бюджет', 'консолидированный'), 5)\n"
     ]
    }
   ],
   "source": [
    "for line in lines[120:140]:\n",
    "    print(line)"
   ]
  },
  {
   "cell_type": "markdown",
   "metadata": {},
   "source": [
    "Несмотря на кажущуюся примитичность, цифра ниже показывает максимальную теоритическую точность при использовании логистической регрессии. Реальная точность будет другой. Так её проверять **НЕЛЬЗЯ**"
   ]
  },
  {
   "cell_type": "code",
   "execution_count": 113,
   "metadata": {},
   "outputs": [
    {
     "data": {
      "text/plain": [
       "0.9779874213836478"
      ]
     },
     "execution_count": 113,
     "metadata": {},
     "output_type": "execute_result"
    }
   ],
   "source": [
    "clf = LogisticRegression().fit(X,Y)\n",
    "(clf.predict(X) == Y).sum() / Y.shape[0]"
   ]
  },
  {
   "cell_type": "markdown",
   "metadata": {},
   "source": [
    "Препроцессинг уже матрицы"
   ]
  },
  {
   "cell_type": "code",
   "execution_count": 114,
   "metadata": {
    "collapsed": true
   },
   "outputs": [],
   "source": [
    "def getClassifier():\n",
    "    classifiers = {\n",
    "        \"SVM\": (SVC, ParameterGrid({\"C\":[1,4,10], \"probability\":[True], \"decision_function_shape\":[\"ovr\"]})),\n",
    "        \"logistic\": (LogisticRegression, ParameterGrid({\"C\":[1,2], \"n_jobs\":[-1]})),\n",
    "        \"GB\": (GradientBoostingClassifier, ParameterGrid({\n",
    "            \"learning_rate\":[0.3, 0.1],\n",
    "            \"n_estimators\":[100, 240],\n",
    "            \"max_depth\": [1,2,3]\n",
    "        }))\n",
    "    }\n",
    "    for clf_name in classifiers:\n",
    "        for params in classifiers[clf_name][1]:\n",
    "            yield clf_name, params, classifiers[clf_name][0](**params)"
   ]
  },
  {
   "cell_type": "markdown",
   "metadata": {},
   "source": [
    "Далее я вставил *свой* сниппет, который делает следующее: использует K-Fold с общими тестами, проверяет метрики на каждой из моделей. Затем выводит максимальные и минимальные результаты\n",
    "\n",
    "Чем больше KFOLD_PARTS, тем точнее к реальной жизни, но тем дольше. При $parts \\rightarrow N$ получим 1-Fold и супер низкую скорость\n",
    "\n",
    "Так как\n",
    "$$\\frac{N}{parts} \\ll 100$$\n",
    "то нахождение доверительного интервала не особо осмысленно"
   ]
  },
  {
   "cell_type": "code",
   "execution_count": 115,
   "metadata": {},
   "outputs": [
    {
     "name": "stdout",
     "output_type": "stream",
     "text": [
      "GB {'n_estimators': 100, 'max_depth': 1, 'learning_rate': 0.3} and train_acc: 0.975 test_acc: 0.840 test_log_loss 0.533\n",
      "GB {'n_estimators': 240, 'max_depth': 1, 'learning_rate': 0.3} and train_acc: 0.988 test_acc: 0.852 test_log_loss 0.665\n",
      "GB {'n_estimators': 100, 'max_depth': 2, 'learning_rate': 0.3} and train_acc: 1.000 test_acc: 0.833 test_log_loss 0.686\n",
      "GB {'n_estimators': 240, 'max_depth': 2, 'learning_rate': 0.3} and train_acc: 1.000 test_acc: 0.843 test_log_loss 1.027\n",
      "GB {'n_estimators': 100, 'max_depth': 3, 'learning_rate': 0.3} and train_acc: 1.000 test_acc: 0.827 test_log_loss 0.837\n",
      "GB {'n_estimators': 240, 'max_depth': 3, 'learning_rate': 0.3} and train_acc: 1.000 test_acc: 0.840 test_log_loss 0.938\n",
      "GB {'n_estimators': 100, 'max_depth': 1, 'learning_rate': 0.1} and train_acc: 0.928 test_acc: 0.824 test_log_loss 0.621\n",
      "GB {'n_estimators': 240, 'max_depth': 1, 'learning_rate': 0.1} and train_acc: 0.961 test_acc: 0.830 test_log_loss 0.528\n",
      "GB {'n_estimators': 100, 'max_depth': 2, 'learning_rate': 0.1} and train_acc: 0.988 test_acc: 0.836 test_log_loss 0.506\n",
      "GB {'n_estimators': 240, 'max_depth': 2, 'learning_rate': 0.1} and train_acc: 1.000 test_acc: 0.833 test_log_loss 0.621\n",
      "GB {'n_estimators': 100, 'max_depth': 3, 'learning_rate': 0.1} and train_acc: 1.000 test_acc: 0.833 test_log_loss 0.567\n",
      "GB {'n_estimators': 240, 'max_depth': 3, 'learning_rate': 0.1} and train_acc: 1.000 test_acc: 0.821 test_log_loss 0.749\n",
      "logistic {'n_jobs': -1, 'C': 1} and train_acc: 0.979 test_acc: 0.833 test_log_loss 0.656\n",
      "logistic {'n_jobs': -1, 'C': 2} and train_acc: 0.982 test_acc: 0.846 test_log_loss 0.656\n",
      "SVM {'probability': True, 'decision_function_shape': 'ovr', 'C': 1} and train_acc: 0.929 test_acc: 0.755 test_log_loss 0.677\n",
      "SVM {'probability': True, 'decision_function_shape': 'ovr', 'C': 4} and train_acc: 0.984 test_acc: 0.821 test_log_loss 0.573\n",
      "SVM {'probability': True, 'decision_function_shape': 'ovr', 'C': 10} and train_acc: 0.991 test_acc: 0.840 test_log_loss 0.551\n",
      "Лучший GB {'n_estimators': 100, 'max_depth': 2, 'learning_rate': 0.1} с acc: 0.506\n"
     ]
    }
   ],
   "source": [
    "KFOLD_PARTS = 40\n",
    "\n",
    "kf = KFold(n_splits=KFOLD_PARTS,shuffle=True,random_state=42)\n",
    "\n",
    "# сюда положим точность по кубам\n",
    "CubesAcc = {i:{\"T\":0, \"F\": 0} for i in CubesMap.values()}\n",
    "conf_matr = np.zeros((len(CubesMap), len(CubesMap)))\n",
    "\n",
    "best_clf_name = None\n",
    "best_params = None\n",
    "best_log_loss = 10\n",
    "best_y_test_pred = None\n",
    "best_y_test_pred_proba = None\n",
    "best_y_test_real = None\n",
    "\n",
    "for clf_name, params, clf in getClassifier():\n",
    "    y_train_pred = np.array([])\n",
    "    y_train_real = np.array([])\n",
    "\n",
    "    y_test_pred = np.array([])\n",
    "    y_test_pred_proba = np.zeros((0,len(CubesMap)))\n",
    "    y_test_real = np.array([])\n",
    "    \n",
    "    for train_index, test_index in kf.split(X):\n",
    "        X_train = X[train_index]\n",
    "        Y_train = Y[train_index]\n",
    "\n",
    "        X_test = X[test_index]\n",
    "        Y_test = Y[test_index]\n",
    "\n",
    "        clf.fit(X_train,Y_train)\n",
    "\n",
    "        y_train_pred = np.concatenate((y_train_pred, clf.predict(X_train)))\n",
    "        y_train_real = np.concatenate((y_train_real, Y_train))\n",
    "        \n",
    "        y_test_pred = np.concatenate((y_test_pred, clf.predict(X_test)))\n",
    "        y_test_pred_proba = np.concatenate((y_test_pred_proba, clf.predict_proba(X_test)))\n",
    "        y_test_real = np.concatenate((y_test_real, Y_test))\n",
    "    \n",
    "    if log_loss(y_test_real, y_test_pred_proba) < best_log_loss:\n",
    "        best_clf_name = clf_name\n",
    "        best_params = params\n",
    "        best_log_loss = log_loss(y_test_real, y_test_pred_proba)\n",
    "        best_y_test_pred = y_test_pred\n",
    "        best_y_test_pred_proba = y_test_pred_proba\n",
    "        best_y_test_real = y_test_real\n",
    "    \n",
    "    print(\"{} {} and train_acc: {:.3f} test_acc: {:.3f} test_log_loss {:.3f}\".format(\n",
    "        clf_name,\n",
    "        params,\n",
    "        accuracy_score(y_train_pred, y_train_real),\n",
    "        accuracy_score(y_test_pred, y_test_real),\n",
    "        log_loss(y_test_real, y_test_pred_proba)\n",
    "    ))\n",
    "print(\"Лучший {} {} с acc: {:.3f}\".format(\n",
    "    best_clf_name,\n",
    "    best_params,\n",
    "    best_log_loss\n",
    "))"
   ]
  },
  {
   "cell_type": "code",
   "execution_count": 116,
   "metadata": {},
   "outputs": [
    {
     "name": "stdout",
     "output_type": "stream",
     "text": [
      "             precision    recall  f1-score   support\n",
      "\n",
      "     CLMR02       0.99      0.96      0.97        74\n",
      "     FSYR01       0.91      1.00      0.95        21\n",
      "     EXDO01       0.74      0.78      0.76        36\n",
      "     INDO01       0.60      0.68      0.63        37\n",
      "     CLDO01       0.92      0.87      0.90        54\n",
      "     INYR03       0.93      0.89      0.91        28\n",
      "     EXYR03       0.97      0.84      0.90        37\n",
      "     CLDO02       0.55      0.58      0.56        31\n",
      "\n",
      "avg / total       0.85      0.84      0.84       318\n",
      "\n"
     ]
    }
   ],
   "source": [
    "print(classification_report(best_y_test_real, best_y_test_pred, target_names=tuple(BackCubesMap.values())))"
   ]
  },
  {
   "cell_type": "code",
   "execution_count": null,
   "metadata": {
    "collapsed": true
   },
   "outputs": [],
   "source": [
    "def plot_confusion_matrix(cm, classes,\n",
    "                          normalize=False,\n",
    "                          title='Confusion matrix',\n",
    "                          cmap=plt.cm.Blues):\n",
    "    \"\"\"\n",
    "    This function prints and plots the confusion matrix.\n",
    "    Normalization can be applied by setting `normalize=True`.\n",
    "    \"\"\"\n",
    "    plt.imshow(cm, interpolation='nearest', cmap=cmap)\n",
    "    plt.title(title)\n",
    "    plt.colorbar()\n",
    "    tick_marks = np.arange(len(classes))\n",
    "    plt.xticks(tick_marks, classes, rotation=45)\n",
    "    plt.yticks(tick_marks, classes)\n",
    "\n",
    "    if normalize:\n",
    "        cm = cm.astype('float') / cm.sum(axis=1)[:, np.newaxis]\n",
    "\n",
    "    thresh = cm.max() / 2.\n",
    "    for i, j in itertools.product(range(cm.shape[0]), range(cm.shape[1])):\n",
    "        plt.text(j, i, round(cm[i, j],2),\n",
    "                 horizontalalignment=\"center\", color=\"white\" if cm[i, j] > thresh else \"black\", size=14)\n",
    "\n",
    "    plt.tight_layout()\n",
    "    plt.ylabel('True label')\n",
    "    plt.xlabel('Predicted label')\n",
    "\n",
    "class_names = tuple(BackCubesMap.values())\n",
    "\n",
    "\n",
    "# Plot non-normalized confusion matrix\n",
    "plt.figure()\n",
    "plot_confusion_matrix(conf_matr, classes=class_names,\n",
    "                      title='Confusion matrix, without normalization')\n",
    "np.set_printoptions(precision=2)\n",
    "plt.savefig(\"/tmp/conf.png\")\n",
    "\n",
    "# Plot normalized confusion matrix\n",
    "plt.figure()\n",
    "plot_confusion_matrix(conf_matr, classes=class_names, normalize=True,\n",
    "                      title='Normalized confusion matrix')\n",
    "plt.savefig(\"/tmp/conf_normed.png\")\n",
    "plt.show()"
   ]
  },
  {
   "cell_type": "code",
   "execution_count": 19,
   "metadata": {},
   "outputs": [
    {
     "data": {
      "image/png": "[encoded data removed]",
      "text/plain": [
       "<matplotlib.figure.Figure at 0x7f551e0792e8>"
      ]
     },
     "metadata": {},
     "output_type": "display_data"
    },
    {
     "data": {
      "image/png": "[encoded data removed]",
      "text/plain": [
       "<matplotlib.figure.Figure at 0x7f551e24d908>"
      ]
     },
     "metadata": {},
     "output_type": "display_data"
    },
    {
     "name": "stdout",
     "output_type": "stream",
     "text": [
      "Всего 406 тестов\n"
     ]
    }
   ],
   "source": [
    "ind = np.arange(len(CubesAcc))\n",
    "plt.bar(ind, tuple(CubesAcc.values()))\n",
    "plt.xticks(ind, BackCubesMap.values())\n",
    "plt.title(\"Точность по каждому из кубов\")\n",
    "plt.savefig(\"/tmp/per_cube_acc.png\")\n",
    "plt.show()\n",
    "\n",
    "CubesCount = Counter()\n",
    "for cube_ind in Y:\n",
    "    CubesCount[cube_ind] += 1\n",
    "plt.bar(ind, tuple(CubesCount.values()))\n",
    "plt.xticks(ind, BackCubesMap.values())\n",
    "plt.title(\"Количество тестов по каждому из кубов\")\n",
    "plt.savefig(\"/tmp/per_cube_count.png\")\n",
    "plt.show()\n",
    "\n",
    "print(\"Всего {} тестов\".format(Y.shape[0]))"
   ]
  },
  {
   "cell_type": "code",
   "execution_count": 93,
   "metadata": {
    "collapsed": true
   },
   "outputs": [],
   "source": [
    "def getCubeFromStr(req, clf):\n",
    "    req = req.lower()\n",
    "    X = np.zeros((1, len(WordIndex)))\n",
    "    req_words = preprocess(req)\n",
    "    words_to_print = []\n",
    "    for word in req_words:\n",
    "        if word not in WordIndex:\n",
    "            continue\n",
    "        words_to_print.append(word)\n",
    "        X[0,WordIndex[word]] += 1\n",
    "    X = scaler.transform(X)\n",
    "    print(words_to_print)\n",
    "    return list(map(lambda x: (BackCubesMap[x[0]], x[1]), sorted(list(enumerate(clf.predict_proba(X)[0].tolist())), key = lambda x: x[1], reverse = True)))"
   ]
  },
  {
   "cell_type": "code",
   "execution_count": 121,
   "metadata": {
    "collapsed": true
   },
   "outputs": [],
   "source": [
    "clf = GradientBoostingClassifier(learning_rate=0.03,n_estimators = 240,).fit(X,Y)"
   ]
  },
  {
   "cell_type": "code",
   "execution_count": 40,
   "metadata": {},
   "outputs": [
    {
     "data": {
      "text/plain": [
       "{0: 'CLMR02',\n",
       " 1: 'FSYR01',\n",
       " 2: 'EXDO01',\n",
       " 3: 'INDO01',\n",
       " 4: 'CLDO01',\n",
       " 5: 'INYR03',\n",
       " 6: 'EXYR03',\n",
       " 7: 'CLDO02'}"
      ]
     },
     "execution_count": 40,
     "metadata": {},
     "output_type": "execute_result"
    }
   ],
   "source": [
    "BackCubesMap"
   ]
  },
  {
   "cell_type": "code",
   "execution_count": 98,
   "metadata": {
    "scrolled": true
   },
   "outputs": [
    {
     "name": "stdout",
     "output_type": "stream",
     "text": [
      "['члентерритория', 'образование', 'расход']\n"
     ]
    },
    {
     "data": {
      "text/plain": [
       "[('EXDO01', 0.8901364194515213),\n",
       " ('EXYR03', 0.07519264054455753),\n",
       " ('CLDO02', 0.020688659297025538),\n",
       " ('FSYR01', 0.004120206377046848),\n",
       " ('INDO01', 0.003959239627856732),\n",
       " ('INYR03', 0.002745761972539468),\n",
       " ('CLMR02', 0.0022965823886790266),\n",
       " ('CLDO01', 0.000860490340773894)]"
      ]
     },
     "execution_count": 98,
     "metadata": {},
     "output_type": "execute_result"
    }
   ],
   "source": [
    "s = \"\"\"расходы на образование в москве\"\"\"\n",
    "getCubeFromStr(s, clf)"
   ]
  }
 ],
 "metadata": {
  "kernelspec": {
   "display_name": "Python 3",
   "language": "python",
   "name": "python3"
  },
  "language_info": {
   "codemirror_mode": {
    "name": "ipython",
    "version": 3
   },
   "file_extension": ".py",
   "mimetype": "text/x-python",
   "name": "python",
   "nbconvert_exporter": "python",
   "pygments_lexer": "ipython3",
   "version": "3.5.2"
  }
 },
 "nbformat": 4,
 "nbformat_minor": 2
}
