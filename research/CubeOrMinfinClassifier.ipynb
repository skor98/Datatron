{
 "cells": [
  {
   "cell_type": "code",
   "execution_count": 1,
   "metadata": {
    "collapsed": true
   },
   "outputs": [],
   "source": [
    "import json\n",
    "import uuid\n",
    "import datetime\n",
    "import time\n",
    "import logging\n",
    "import itertools\n",
    "import re\n",
    "from os import path, listdir, makedirs\n",
    "from math import isnan\n",
    "from statistics import mean, StatisticsError\n",
    "from functools import lru_cache\n",
    "from collections import Counter\n",
    "\n",
    "import numpy as np\n",
    "\n",
    "from nltk.corpus import stopwords\n",
    "from nltk import FreqDist\n",
    "import nltk\n",
    "\n",
    "import pymorphy2\n",
    "\n",
    "\n",
    "from sklearn.neighbors import KNeighborsClassifier\n",
    "from sklearn.tree import DecisionTreeClassifier\n",
    "from sklearn.ensemble import VotingClassifier, RandomForestClassifier, BaggingClassifier, ExtraTreesClassifier, GradientBoostingClassifier\n",
    "from sklearn.linear_model import LogisticRegression\n",
    "from sklearn.preprocessing import minmax_scale, Normalizer, StandardScaler\n",
    "from sklearn.svm import SVC\n",
    "from sklearn.model_selection import train_test_split, cross_val_score\n",
    "from sklearn.decomposition import PCA, NMF\n",
    "from sklearn.metrics import accuracy_score, f1_score, log_loss, confusion_matrix\n",
    "from sklearn.manifold import TSNE\n",
    "from sklearn.model_selection import KFold, ParameterGrid\n",
    "from sklearn.metrics import classification_report\n",
    "\n",
    "from sklearn.model_selection import GridSearchCV, ParameterGrid\n",
    "\n",
    "from sklearn.discriminant_analysis import LinearDiscriminantAnalysis\n",
    "\n",
    "import matplotlib.pyplot as plt\n",
    "import seaborn as sns\n",
    "sns.set(color_codes=True)\n",
    "\n",
    "%matplotlib inline\n",
    "plt.rcParams['figure.figsize']=(9,7)\n",
    "plt.style.use('seaborn-deep')"
   ]
  },
  {
   "cell_type": "code",
   "execution_count": 7,
   "metadata": {
    "collapsed": true
   },
   "outputs": [],
   "source": [
    "from peewee import Model, SqliteDatabase, CharField, ForeignKeyField, CompositeKey,fn\n",
    "\n",
    "database = SqliteDatabase(\"../kb/knowledge_base.db\")\n",
    "\n",
    "\n",
    "class BaseModel(Model):\n",
    "    class Meta:\n",
    "        database = SqliteDatabase(\"../kb/knowledge_base.db\")\n",
    "\n",
    "\n",
    "class Member(BaseModel):\n",
    "    # Полное вербальное значение\n",
    "    caption = CharField()\n",
    "\n",
    "    # Нормализованное вербальное значение\n",
    "    lem_caption = CharField()\n",
    "\n",
    "    # Нормализованные синонимы\n",
    "    lem_synonyms = CharField(null=True)\n",
    "\n",
    "    # Формальное значение для куба\n",
    "    cube_value = CharField()\n",
    "\n",
    "    # Уровень значения измерения в иерархии измерения\n",
    "    hierarchy_level = CharField(null=True)\n",
    "\n",
    "    # Значение измерения, которое также должно быть\n",
    "    # в запросе, если указано данное\n",
    "    with_member = CharField(null=True)\n",
    "\n",
    "\n",
    "class Measure(BaseModel):\n",
    "    # Полное вербальное значение\n",
    "    caption = CharField()\n",
    "\n",
    "    # Нормализованное вербальное значение\n",
    "    lem_caption = CharField()\n",
    "\n",
    "    # Ключевые слова для меры от методологов\n",
    "    key_words = CharField(null=True)\n",
    "\n",
    "    # Ключевые слова для меры от методологов\n",
    "    lem_key_words = CharField(null=True)\n",
    "\n",
    "    # Формальное значение для куба\n",
    "    cube_value = CharField()\n",
    "\n",
    "    # Формат, в котором предоставляются данные из этой меры\n",
    "    # Если 0 - то данные в рублях\n",
    "    # Если 1 - то данные в процентах\n",
    "    # Если 2 – то данные в штуках (сейчас кубов с такими мерами в БД нет)\n",
    "    format = CharField()\n",
    "\n",
    "\n",
    "class Dimension(BaseModel):\n",
    "    # Название измерения\n",
    "    cube_value = CharField()\n",
    "\n",
    "    # Полное вербальное значение\n",
    "    caption = CharField()\n",
    "\n",
    "    # Ключевые слова для измерения от методологов\n",
    "    key_words = CharField(null=True)\n",
    "\n",
    "    # Нормализованные ключевые слова для измерения от методологов\n",
    "    lem_key_words = CharField(null=True)\n",
    "\n",
    "    # Значение измерения по умолчанию\n",
    "    default_value = ForeignKeyField(Member, null=True)\n",
    "\n",
    "\n",
    "class DimensionMember(BaseModel):\n",
    "    member = ForeignKeyField(Member)\n",
    "    dimension = ForeignKeyField(Dimension)\n",
    "\n",
    "    class Meta:\n",
    "        primary_key = CompositeKey('member', 'dimension')\n",
    "\n",
    "\n",
    "class Cube(BaseModel):\n",
    "    # Формальное название куба, например, \"CLMR02\"\n",
    "    name = CharField()\n",
    "\n",
    "    # Тема куба, например, \"Госдолг РФ\"\n",
    "    caption = CharField()\n",
    "\n",
    "    # Наиболее часто встречающиеся слова в значениях\n",
    "    # измерения куба в нормализованном виде с повторениями\n",
    "    auto_lem_key_words = CharField()\n",
    "\n",
    "    # Ключевые слова, составленные методологом\n",
    "    key_words = CharField(null=True)\n",
    "\n",
    "    # Нормализованые ключевые слова от методолога\n",
    "    lem_key_words = CharField(null=True)\n",
    "\n",
    "    # Мера для куба по умолчанию\n",
    "    default_measure = ForeignKeyField(Measure)\n",
    "\n",
    "\n",
    "class CubeDimension(BaseModel):\n",
    "    dimension = ForeignKeyField(Dimension)\n",
    "    cube = ForeignKeyField(Cube)\n",
    "\n",
    "    class Meta:\n",
    "        primary_key = CompositeKey('dimension', 'cube')\n",
    "\n",
    "\n",
    "class CubeMeasure(BaseModel):\n",
    "    measure = ForeignKeyField(Measure)\n",
    "    cube = ForeignKeyField(Cube)\n",
    "\n",
    "    class Meta:\n",
    "        primary_key = CompositeKey('measure', 'cube')"
   ]
  },
  {
   "cell_type": "code",
   "execution_count": 3,
   "metadata": {
    "collapsed": true
   },
   "outputs": [],
   "source": [
    "terr_query = Member.select(Member.lem_caption, Member.lem_synonyms).where(fn.Lower(fn.Substr(Member.cube_value, 1, 2)) == '08')\n",
    "\n",
    "territories = []\n",
    "\n",
    "for territory in terr_query:\n",
    "    if territory.lem_caption in [\"неуказанный территория\", \"неуказанный наименование\"]:\n",
    "        continue\n",
    "    territories.append(set(territory.lem_caption.split()))\n",
    "    if territory.lem_synonyms:\n",
    "        for synonym in territory.lem_synonyms.split():\n",
    "            territories.append(set([synonym]))\n",
    "territories[:10]\n",
    "territories.append({\"кабардино\", \"балкария\"})\n",
    "territories.append({\"хмао\"})\n",
    "territories.append({\"крымский\"})\n",
    "territories.append({\"крым\"})\n",
    "territories.append({\"кабардино\", \"балкарский\", \"республика\"})"
   ]
  },
  {
   "cell_type": "code",
   "execution_count": 4,
   "metadata": {
    "collapsed": true
   },
   "outputs": [],
   "source": [
    "@lru_cache(maxsize=16384)  # на самом деле, 8192 почти достаточно\n",
    "def get_normal_form(s):\n",
    "    return get_normal_form.morph.parse(s)[0].normal_form\n",
    "get_normal_form.morph = pymorphy2.MorphAnalyzer()  # Лемматизатор\n",
    "\n",
    "stop_words = set(stopwords.words(\"russian\"))\n",
    "#stop_words.remove('не')\n",
    "stop_words.update(set(\"также иной да нет -\".split()))"
   ]
  },
  {
   "cell_type": "code",
   "execution_count": 5,
   "metadata": {},
   "outputs": [
    {
     "data": {
      "text/plain": [
       "('текущийгод', 'нетекущийгод', 'жить', 'члентерритория', 'год')"
      ]
     },
     "execution_count": 5,
     "metadata": {},
     "output_type": "execute_result"
    }
   ],
   "source": [
    "words_re = re.compile(\"[а-яёА-ЯЁ]+\")\n",
    "year_re = re.compile(r\"\\s(\\d\\d(\\d\\d)?)\\s\")\n",
    "def preprocess(s: str):\n",
    "    \"\"\"Возвращает массив токенов по строке\"\"\"\n",
    "    not_process = set([\"текущийгод\", \"нетекущийгод\", \"члентерритория\"])\n",
    "    s = s.replace(\"2017\", \"текущийгод\")\n",
    "    s = s.replace(\"17\", \"текущийгод\")\n",
    "    s = year_re.sub(\" нетекущийгод \", s + \" \")\n",
    "    \n",
    "    res = set(map(\n",
    "        lambda x: get_normal_form(x) if x not in not_process else x,\n",
    "        filter(\n",
    "            lambda x: x not in stop_words,\n",
    "            words_re.findall(s.lower())\n",
    "        )\n",
    "    ))\n",
    "    \n",
    "    for terr in territories:\n",
    "        if terr.issubset(res):\n",
    "            res = res.difference(terr)\n",
    "            res.add(\"члентерритория\")\n",
    "            break\n",
    "            \n",
    "    return tuple(res)\n",
    "\n",
    "\n",
    "preprocess(\"хорошо жить в 2017 году 19 после 2016 ярославской области \")"
   ]
  },
  {
   "cell_type": "code",
   "execution_count": 6,
   "metadata": {
    "collapsed": true
   },
   "outputs": [],
   "source": [
    "def get_test_files(test_path, prefix):\n",
    "    for file_name in listdir(test_path):\n",
    "        if file_name.startswith(prefix):\n",
    "            yield path.join(test_path, file_name)"
   ]
  },
  {
   "cell_type": "code",
   "execution_count": 12,
   "metadata": {},
   "outputs": [
    {
     "name": "stdout",
     "output_type": "stream",
     "text": [
      "Всего: 2341 примеров\n",
      "Первая строка: (('парижский', 'клуб', 'задолженность', 'январь', 'войти', 'текущийгод', 'страна'), 0)\n",
      "{\n",
      "    \"0\": \"Cube\",\n",
      "    \"1\": \"Minfin\"\n",
      "}\n"
     ]
    }
   ],
   "source": [
    "IndToClassName = {0: \"Cube\", 1: \"Minfin\"}\n",
    "\n",
    "lines = []\n",
    "for class_ind, test_path, test_prefix in [(0, '../tests/cube/', \"cubes_test\"), (1, '../tests/minfin/', \"minfin_test\")]:\n",
    "    for test_path in get_test_files(test_path, test_prefix):\n",
    "        with open(test_path, 'r', encoding='utf-8') as file_in:\n",
    "            for idx, line in enumerate(file_in):\n",
    "                line = line.strip()\n",
    "                if not line:\n",
    "                    continue\n",
    "\n",
    "                if line.startswith('*'):\n",
    "                    continue\n",
    "\n",
    "                req= line.split(':')[0]\n",
    "                answer = class_ind\n",
    "\n",
    "                req = req.lower()\n",
    "                req = preprocess(req)\n",
    "                lines.append((req, answer))\n",
    "\n",
    "BackClassName = {IndToClassName[i]:i for i in IndToClassName}\n",
    "            \n",
    "print(\"Всего: {} примеров\".format(len(lines)))\n",
    "print(\"Первая строка: {}\".format(lines[0]))\n",
    "print(json.dumps(IndToClassName,indent=4))"
   ]
  },
  {
   "cell_type": "code",
   "execution_count": 13,
   "metadata": {},
   "outputs": [
    {
     "name": "stdout",
     "output_type": "stream",
     "text": [
      "Всего 1415 слова. Из них значимых не более 805\n",
      "Самые частые слова\n",
      "члентерритория 587\n",
      "год 441\n",
      "бюджет 390\n",
      "нетекущийгод 288\n",
      "налоговый 268\n",
      "какой 264\n",
      "налог 261\n",
      "доход 238\n",
      "федеральный 157\n",
      "бюджетный 138\n",
      "консолидированный 135\n",
      "поступление 130\n",
      "расход 129\n",
      "сколько 117\n",
      "текущийгод 114\n",
      "исполнение 111\n",
      "финансы 106\n",
      "фнс 99\n",
      "государственный 99\n",
      "который 97\n"
     ]
    },
    {
     "data": {
      "image/png": "[encoded data removed]",
      "text/plain": [
       "<matplotlib.figure.Figure at 0x7f55a02d3a20>"
      ]
     },
     "metadata": {},
     "output_type": "display_data"
    },
    {
     "data": {
      "image/png": "[encoded data removed]",
      "text/plain": [
       "<matplotlib.figure.Figure at 0x7f55a01fbc88>"
      ]
     },
     "metadata": {},
     "output_type": "display_data"
    }
   ],
   "source": [
    "all_freqs = Counter()\n",
    "for line in lines:\n",
    "    for word in line[0]:\n",
    "        all_freqs[word] += 1\n",
    "print(\"Всего {} слова. Из них значимых не более {}\".format(\n",
    "    len(all_freqs),\n",
    "    len(list(filter(lambda x: all_freqs[x] >= 3, all_freqs.keys())))\n",
    "))\n",
    "print(\"Самые частые слова\")\n",
    "for word in tuple(sorted(all_freqs.keys(), key = lambda x: all_freqs[x], reverse=True))[:20]:\n",
    "    print(word, all_freqs[word])\n",
    "        \n",
    "sns.distplot(tuple(all_freqs.values()), bins=20)\n",
    "plt.title(\"Гистограмма всех слов\")\n",
    "plt.show()\n",
    "\n",
    "sns.distplot(tuple(filter(lambda x: x >= 3, all_freqs.values())), bins=20)\n",
    "plt.title(\"Гистограмма фильтрованных слов\")\n",
    "plt.show()"
   ]
  },
  {
   "cell_type": "code",
   "execution_count": 14,
   "metadata": {
    "collapsed": true
   },
   "outputs": [],
   "source": [
    "WordIndex = {}\n",
    "for ind, word in enumerate(filter(lambda x: all_freqs[x] >= 3, all_freqs.keys())):\n",
    "    WordIndex[word] = ind"
   ]
  },
  {
   "cell_type": "code",
   "execution_count": 15,
   "metadata": {},
   "outputs": [
    {
     "name": "stdout",
     "output_type": "stream",
     "text": [
      "Отфильтровали 532 примеров\n",
      "1809\n"
     ]
    }
   ],
   "source": [
    "X = np.zeros((len(lines),len(WordIndex)))\n",
    "Y = np.zeros(len(lines))\n",
    "\n",
    "used_queries = set()\n",
    "filtered_data = []\n",
    "    \n",
    "for line in lines:\n",
    "    stringed_example = \"\".join(sorted(line[0]))\n",
    "    if stringed_example in used_queries:\n",
    "        continue\n",
    "    used_queries.add(stringed_example)\n",
    "    filtered_data.append(line)\n",
    "\n",
    "print(\"Отфильтровали {} примеров\".format(len(lines) - len(filtered_data)))\n",
    "\n",
    "X = np.zeros((len(filtered_data),len(WordIndex)))\n",
    "Y = np.zeros(len(filtered_data))\n",
    "\n",
    "for ind, line in enumerate(filtered_data):\n",
    "    req_words = line[0]\n",
    "    for word in req_words:\n",
    "        if word not in WordIndex:\n",
    "            continue\n",
    "        X[ind,WordIndex[word]] += 1\n",
    "    Y[ind] = line[1]\n",
    "\n",
    "print(X.shape[0])\n",
    "# Нормализация среднего и среднеквадратичного отклонения\n",
    "scaler = StandardScaler()\n",
    "X = scaler.fit_transform(X)"
   ]
  },
  {
   "cell_type": "code",
   "execution_count": 16,
   "metadata": {},
   "outputs": [
    {
     "data": {
      "text/plain": [
       "1.0"
      ]
     },
     "execution_count": 16,
     "metadata": {},
     "output_type": "execute_result"
    }
   ],
   "source": [
    "clf = LogisticRegression().fit(X,Y)\n",
    "(clf.predict(X) == Y).sum() / Y.shape[0]"
   ]
  },
  {
   "cell_type": "code",
   "execution_count": 17,
   "metadata": {
    "collapsed": true
   },
   "outputs": [],
   "source": [
    "def getClassifier():\n",
    "    classifiers = {\n",
    "        \"SVM\": (SVC, ParameterGrid({\"C\":[1,4,10], \"probability\":[True], \"decision_function_shape\":[\"ovr\"]})),\n",
    "        \"logistic\": (LogisticRegression, ParameterGrid({\"C\":[1,2], \"n_jobs\":[-1]})),\n",
    "        \"GB\": (GradientBoostingClassifier, ParameterGrid({\n",
    "            \"learning_rate\":[0.3, 0.1],\n",
    "            \"n_estimators\":[100, 240],\n",
    "            \"max_depth\": [1,2,3]\n",
    "        }))\n",
    "    }\n",
    "    for clf_name in classifiers:\n",
    "        for params in classifiers[clf_name][1]:\n",
    "            yield clf_name, params, classifiers[clf_name][0](**params)"
   ]
  },
  {
   "cell_type": "code",
   "execution_count": 19,
   "metadata": {},
   "outputs": [
    {
     "name": "stdout",
     "output_type": "stream",
     "text": [
      "GB {'max_depth': 1, 'n_estimators': 100, 'learning_rate': 0.3} and train_acc: 0.965 test_acc: 0.947 test_log_loss 0.154\n",
      "GB {'max_depth': 1, 'n_estimators': 240, 'learning_rate': 0.3} and train_acc: 0.986 test_acc: 0.966 test_log_loss 0.104\n",
      "GB {'max_depth': 2, 'n_estimators': 100, 'learning_rate': 0.3} and train_acc: 0.994 test_acc: 0.968 test_log_loss 0.097\n",
      "GB {'max_depth': 2, 'n_estimators': 240, 'learning_rate': 0.3} and train_acc: 0.999 test_acc: 0.973 test_log_loss 0.069\n",
      "GB {'max_depth': 3, 'n_estimators': 100, 'learning_rate': 0.3} and train_acc: 0.999 test_acc: 0.967 test_log_loss 0.084\n",
      "GB {'max_depth': 3, 'n_estimators': 240, 'learning_rate': 0.3} and train_acc: 1.000 test_acc: 0.975 test_log_loss 0.080\n",
      "GB {'max_depth': 1, 'n_estimators': 100, 'learning_rate': 0.1} and train_acc: 0.921 test_acc: 0.911 test_log_loss 0.232\n",
      "GB {'max_depth': 1, 'n_estimators': 240, 'learning_rate': 0.1} and train_acc: 0.954 test_acc: 0.939 test_log_loss 0.174\n",
      "GB {'max_depth': 2, 'n_estimators': 100, 'learning_rate': 0.1} and train_acc: 0.961 test_acc: 0.942 test_log_loss 0.162\n",
      "GB {'max_depth': 2, 'n_estimators': 240, 'learning_rate': 0.1} and train_acc: 0.986 test_acc: 0.964 test_log_loss 0.114\n",
      "GB {'max_depth': 3, 'n_estimators': 100, 'learning_rate': 0.1} and train_acc: 0.985 test_acc: 0.954 test_log_loss 0.128\n",
      "GB {'max_depth': 3, 'n_estimators': 240, 'learning_rate': 0.1} and train_acc: 0.998 test_acc: 0.968 test_log_loss 0.090\n",
      "logistic {'C': 1, 'n_jobs': -1} and train_acc: 1.000 test_acc: 0.972 test_log_loss 0.087\n",
      "logistic {'C': 2, 'n_jobs': -1} and train_acc: 1.000 test_acc: 0.973 test_log_loss 0.095\n",
      "SVM {'C': 1, 'decision_function_shape': 'ovr', 'probability': True} and train_acc: 0.997 test_acc: 0.969 test_log_loss 0.065\n",
      "SVM {'C': 4, 'decision_function_shape': 'ovr', 'probability': True} and train_acc: 0.998 test_acc: 0.975 test_log_loss 0.062\n",
      "SVM {'C': 10, 'decision_function_shape': 'ovr', 'probability': True} and train_acc: 0.999 test_acc: 0.975 test_log_loss 0.063\n",
      "Лучший SVM {'C': 4, 'decision_function_shape': 'ovr', 'probability': True} с acc: 0.062\n"
     ]
    }
   ],
   "source": [
    "KFOLD_PARTS = 15\n",
    "\n",
    "kf = KFold(n_splits=KFOLD_PARTS,shuffle=True,random_state=42)\n",
    "\n",
    "conf_matr = np.zeros((len(IndToClassName), len(IndToClassName)))\n",
    "\n",
    "best_clf_name = None\n",
    "best_params = None\n",
    "best_log_loss = 10\n",
    "best_y_test_pred = None\n",
    "best_y_test_pred_proba = None\n",
    "best_y_test_real = None\n",
    "\n",
    "for clf_name, params, clf in getClassifier():\n",
    "    y_train_pred = np.array([])\n",
    "    y_train_real = np.array([])\n",
    "\n",
    "    y_test_pred = np.array([])\n",
    "    y_test_pred_proba = np.zeros((0,len(IndToClassName)))\n",
    "    y_test_real = np.array([])\n",
    "    \n",
    "    for train_index, test_index in kf.split(X):\n",
    "        X_train = X[train_index]\n",
    "        Y_train = Y[train_index]\n",
    "\n",
    "        X_test = X[test_index]\n",
    "        Y_test = Y[test_index]\n",
    "\n",
    "        clf.fit(X_train,Y_train)\n",
    "\n",
    "        y_train_pred = np.concatenate((y_train_pred, clf.predict(X_train)))\n",
    "        y_train_real = np.concatenate((y_train_real, Y_train))\n",
    "        \n",
    "        y_test_pred = np.concatenate((y_test_pred, clf.predict(X_test)))\n",
    "        y_test_pred_proba = np.concatenate((y_test_pred_proba, clf.predict_proba(X_test)))\n",
    "        y_test_real = np.concatenate((y_test_real, Y_test))\n",
    "    \n",
    "    if log_loss(y_test_real, y_test_pred_proba) < best_log_loss:\n",
    "        best_clf_name = clf_name\n",
    "        best_params = params\n",
    "        best_log_loss = log_loss(y_test_real, y_test_pred_proba)\n",
    "        best_y_test_pred = y_test_pred\n",
    "        best_y_test_pred_proba = y_test_pred_proba\n",
    "        best_y_test_real = y_test_real\n",
    "    \n",
    "    print(\"{} {} and train_acc: {:.3f} test_acc: {:.3f} test_log_loss {:.3f}\".format(\n",
    "        clf_name,\n",
    "        params,\n",
    "        accuracy_score(y_train_pred, y_train_real),\n",
    "        accuracy_score(y_test_pred, y_test_real),\n",
    "        log_loss(y_test_real, y_test_pred_proba)\n",
    "    ))\n",
    "print(\"Лучший {} {} с acc: {:.3f}\".format(\n",
    "    best_clf_name,\n",
    "    best_params,\n",
    "    best_log_loss\n",
    "))"
   ]
  },
  {
   "cell_type": "code",
   "execution_count": 22,
   "metadata": {},
   "outputs": [
    {
     "name": "stdout",
     "output_type": "stream",
     "text": [
      "             precision    recall  f1-score   support\n",
      "\n",
      "        0.0       0.96      0.90      0.93       318\n",
      "        1.0       0.98      0.99      0.98      1491\n",
      "\n",
      "avg / total       0.97      0.97      0.97      1809\n",
      "\n"
     ]
    }
   ],
   "source": [
    "print(classification_report(best_y_test_real, best_y_test_pred))"
   ]
  }
 ],
 "metadata": {
  "kernelspec": {
   "display_name": "Python 3",
   "language": "python",
   "name": "python3"
  },
  "language_info": {
   "codemirror_mode": {
    "name": "ipython",
    "version": 3
   },
   "file_extension": ".py",
   "mimetype": "text/x-python",
   "name": "python",
   "nbconvert_exporter": "python",
   "pygments_lexer": "ipython3",
   "version": "3.5.2"
  }
 },
 "nbformat": 4,
 "nbformat_minor": 2
}
